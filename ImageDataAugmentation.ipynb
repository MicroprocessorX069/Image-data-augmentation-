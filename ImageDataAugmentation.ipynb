{
  "nbformat": 4,
  "nbformat_minor": 0,
  "metadata": {
    "colab": {
      "name": "ImageDataAugmentation",
      "provenance": [],
      "toc_visible": true,
      "include_colab_link": true
    },
    "kernelspec": {
      "name": "python3",
      "display_name": "Python 3"
    }
  },
  "cells": [
    {
      "cell_type": "markdown",
      "metadata": {
        "id": "view-in-github",
        "colab_type": "text"
      },
      "source": [
        "<a href=\"https://colab.research.google.com/github/MicroprocessorX069/Image-data-augmentation-/blob/master/ImageDataAugmentation.ipynb\" target=\"_parent\"><img src=\"https://colab.research.google.com/assets/colab-badge.svg\" alt=\"Open In Colab\"/></a>"
      ]
    },
    {
      "cell_type": "code",
      "metadata": {
        "id": "pIKThNK9ZxcH",
        "colab_type": "code",
        "colab": {}
      },
      "source": [
        "import glob, os, random\n",
        "from PIL import Image, ImageFile, ImageFont, ImageDraw\n",
        "import numpy as np\n"
      ],
      "execution_count": 0,
      "outputs": []
    },
    {
      "cell_type": "code",
      "metadata": {
        "id": "kL5FZkKqg-sA",
        "colab_type": "code",
        "colab": {}
      },
      "source": [
        "import glob, os, random\n",
        "from PIL import Image, ImageFile, ImageFont, ImageDraw\n",
        "import numpy as np\n",
        "\n",
        "ImageFile.MAXBLOCK = 2**20\n",
        "\n",
        "data_dir=\"/content/drive/My Drive/Lumentum/NAVA_ocr/data/cropped/\"\n",
        "image_list = []\n",
        "for filename in glob.glob(data_dir+'*.jpg'):\n",
        "    image_list.append(filename)\n",
        "\n",
        "\n",
        "# reading the images nad label as filenames\n",
        "#for index in range(len(image_list)):\n",
        "index=0\n",
        "img = Image.open(image_list[index])\n",
        "basewidth=256\n",
        "wpercent = (basewidth/float(img.size[0]))\n",
        "hsize = int((float(img.size[1])*float(wpercent)))\n",
        "img = img.resize((basewidth,hsize), Image.ANTIALIAS)\n",
        "\n",
        "label = os.path.splitext(image_list[index])[0][2:]\n",
        "bckgrd = Image.new(\"RGB\", (256, 256), (0, 0, 0))\n",
        "img = np.concatenate((img, bckgrd), axis=1)\n",
        "img.save(label+\".jpg\", \"JPEG\", quality=80, optimize=True, progressive=True)\n"
      ],
      "execution_count": 0,
      "outputs": []
    },
    {
      "cell_type": "code",
      "metadata": {
        "id": "fCFLiULEhCwM",
        "colab_type": "code",
        "outputId": "e6530fae-d5c0-4d3a-ff64-94bc068c42a3",
        "colab": {
          "base_uri": "https://localhost:8080/",
          "height": 35
        }
      },
      "source": [
        "# Run this cell to mount your Google Drive.\n",
        "from google.colab import drive\n",
        "drive.mount('/content/drive',force_remount=True)"
      ],
      "execution_count": 0,
      "outputs": [
        {
          "output_type": "stream",
          "text": [
            "Mounted at /content/drive\n"
          ],
          "name": "stdout"
        }
      ]
    },
    {
      "cell_type": "markdown",
      "metadata": {
        "id": "PkUn8EdrA3Lu",
        "colab_type": "text"
      },
      "source": [
        "##Data Augmentation for train"
      ]
    },
    {
      "cell_type": "code",
      "metadata": {
        "id": "75PHXnnGfyWO",
        "colab_type": "code",
        "colab": {}
      },
      "source": [
        "from PIL import Image\n",
        "import glob, os, random\n",
        "from PIL import Image, ImageFile, ImageFont, ImageDraw\n",
        "import numpy as np\n",
        "from tqdm import tqdm\n",
        "\n",
        "def make_square(im, min_size=256, fill_color=(0, 0, 0, 0)):\n",
        "    x, y = im.size\n",
        "    size = max(min_size, x, y)\n",
        "    new_im = Image.new('RGB', (size, size), fill_color)\n",
        "    new_im.paste(im, (int((size - x) / 2), int((size - y) / 2)))\n",
        "    return new_im\n",
        "  \n",
        "\n",
        "data_dir=\"/content/drive/My Drive/Lumentum/NAVA_ocr/data/cropped 3/\"\n",
        "image_list = []\n",
        "for filename in glob.glob(data_dir+'*.jpg'):\n",
        "    image_list.append(filename)\n",
        "\n",
        "if len(image_list)==0:\n",
        "  print(\"No images found in the directory.\")\n",
        "# reading the images nad label as filenames\n",
        "for index in tqdm(range(len(image_list))):\n",
        "\n",
        "  img = Image.open(image_list[index])\n",
        "\n",
        "  basewidth=256\n",
        "  wpercent = (basewidth/float(img.size[0]))\n",
        "  hsize = int((float(img.size[1])*float(wpercent)))\n",
        "  img = img.resize((basewidth,hsize), Image.ANTIALIAS)\n",
        "\n",
        "  label = os.path.splitext(image_list[index])[0][-6:]\n",
        "  print\n",
        "  sav_dir=\"/content/drive/My Drive/Lumentum/NAVA_ocr/data/augmented_all/\"\n",
        "\n",
        "  ##normal image\n",
        "  new_image=make_square(img)\n",
        "  new_image.save(sav_dir+label+\"_nor\"+\".jpg\", \"JPEG\", quality=95, optimize=True, progressive=True)\n",
        "\n",
        "  ##flipped image\n",
        "  flip_image= new_image.transpose(Image.FLIP_LEFT_RIGHT)\n",
        "  flip_label= label+\"_flp\"\n",
        "  flip_image.save(sav_dir+flip_label+\".jpg\", \"JPEG\", quality=95, optimize=True, progressive=True)\n",
        "\n",
        "  #rotate_image\n",
        "  rot_image90 = new_image.rotate(90)\n",
        "  rot_label= label+\"_rt9\"\n",
        "  rot_image90.save(sav_dir+rot_label+\".jpg\", \"JPEG\", quality=95, optimize=True, progressive=True)\n",
        "\n",
        "  rot_image180 = new_image.rotate(180)\n",
        "  rot_label= label+\"_rt1\"\n",
        "  rot_image180.save(sav_dir+rot_label+\".jpg\", \"JPEG\", quality=95, optimize=True, progressive=True)\n",
        "\n",
        "  rot_image270 = new_image.rotate(270)\n",
        "  rot_label= label+\"_rt2\"\n",
        "  rot_image270.save(sav_dir+rot_label+\".jpg\", \"JPEG\", quality=95, optimize=True, progressive=True)\n",
        "\n",
        "  #rotated and flipped\n",
        "  rot_image90 = flip_image.rotate(90)\n",
        "  rot_label= label+\"_rf9\"\n",
        "  rot_image90.save(sav_dir+rot_label+\".jpg\", \"JPEG\", quality=95, optimize=True, progressive=True)\n",
        "\n",
        "  rot_image180 = flip_image.rotate(180)\n",
        "  rot_label= label+\"_rf1\"\n",
        "  rot_image180.save(sav_dir+rot_label+\".jpg\", \"JPEG\", quality=95, optimize=True, progressive=True)\n",
        "\n",
        "  rot_image270 = flip_image.rotate(270)\n",
        "  rot_label= label+\"_rf2\"\n",
        "  rot_image270.save(sav_dir+rot_label+\".jpg\", \"JPEG\", quality=95, optimize=True, progressive=True)\n",
        "print(\"Complete.\")"
      ],
      "execution_count": 0,
      "outputs": []
    },
    {
      "cell_type": "code",
      "metadata": {
        "id": "cj0Rld-vxJSA",
        "colab_type": "code",
        "outputId": "9720d982-67b6-42c8-aba5-c6e4028f55cf",
        "colab": {
          "base_uri": "https://localhost:8080/",
          "height": 191
        }
      },
      "source": [
        "\n",
        "data_dir=\"/content/drive/My Drive/Lumentum/NAVA_ocr/data/cropped 3/\"\n",
        "image_list = []\n",
        "for filename in glob.glob(data_dir+'*.jpg'):\n",
        "    image_list.append(filename)\n",
        "\n",
        "if len(image_list)==0:\n",
        "  print(\"No images found in the directory.\")\n",
        "# reading the images nad label as filenames\n",
        "for index in tqdm(range(2,10)):\n",
        "\n",
        "  img = Image.open(image_list[index])\n",
        "\n",
        "  basewidth=256\n",
        "  wpercent = (basewidth/float(img.size[0]))\n",
        "  hsize = int((float(img.size[1])*float(wpercent)))\n",
        "  img = img.resize((basewidth,hsize), Image.ANTIALIAS)\n",
        "\n",
        "  label = os.path.splitext(image_list[index])[0][-6:]\n",
        "  print(label)"
      ],
      "execution_count": 0,
      "outputs": [
        {
          "output_type": "stream",
          "text": [
            "\n",
            "  0%|          | 0/8 [00:00<?, ?it/s]\u001b[A\n",
            "100%|██████████| 8/8 [00:00<00:00, 90.45it/s]\u001b[A"
          ],
          "name": "stderr"
        },
        {
          "output_type": "stream",
          "text": [
            "NA82JU\n",
            "NA82JS\n",
            "NA82JT\n",
            "NA82KA\n",
            "NA82JV\n",
            "NA82KC\n",
            "NA82JW\n",
            "NA82KB\n"
          ],
          "name": "stdout"
        }
      ]
    },
    {
      "cell_type": "markdown",
      "metadata": {
        "id": "qXqEUGJar6TS",
        "colab_type": "text"
      },
      "source": [
        "##Output Image generation"
      ]
    },
    {
      "cell_type": "code",
      "metadata": {
        "id": "ZYArHaOrr5-W",
        "colab_type": "code",
        "outputId": "34038740-5616-45f5-fe49-670f2bfda137",
        "colab": {
          "base_uri": "https://localhost:8080/",
          "height": 35
        }
      },
      "source": [
        "import glob, os, random\n",
        "from PIL import Image, ImageFile, ImageFont, ImageDraw\n",
        "import numpy as np\n",
        "import re\n",
        "\n",
        "ImageFile.MAXBLOCK = 2**20\n",
        "\n",
        "data_dir=\"/content/drive/My Drive/Lumentum/NAVA_ocr/data/augmented/\"\n",
        "image_list = []\n",
        "for filename in glob.glob(data_dir+\"*.jpg\"):\n",
        "    image_list.append(filename)\n",
        "\n",
        "# reading the images nad label as filenames\n",
        "#for index in range(len(image_list)):\n",
        "index=5\n",
        "image = Image.open(image_list[index])\n",
        "label = os.path.splitext(image_list[index])[0][-10:]\n",
        "print(label)\n",
        "serial_no=label[:6]\n",
        "font = ImageFont.load_default().font\n",
        "font = ImageFont.truetype(\"Roboto-Regular.ttf\", 57)\n",
        "img = Image.new(\"RGB\", (256, 256), (0, 0, 0))\n",
        "draw = ImageDraw.Draw(img)\n",
        "\n",
        "text_strtPt = (15,93)\n",
        "draw.text(text_strtPt, serial_no, (255, 255, 255), font=font)\n",
        "draw = ImageDraw.Draw(img)\n",
        "syn_img=img\n",
        "if '_nor' not in label:\n",
        "\n",
        "  syn_img=img\n",
        "\n",
        "if '_rf' in label :\n",
        "  angle=label[-1]\n",
        "  if angle=='9':\n",
        "    angle=90\n",
        "  elif angle =='2':\n",
        "    angle =270\n",
        "  else:\n",
        "    angle=180\n",
        "  \n",
        "  flip_image= img.transpose(Image.FLIP_LEFT_RIGHT)\n",
        "  syn_img = flip_image.rotate(angle)\n",
        "  \n",
        "if '_rt' in label:\n",
        "  angle=label[-1]\n",
        "  if angle=='9':\n",
        "    angle=90\n",
        "  elif angle =='2':\n",
        "    angle =270\n",
        "  else:\n",
        "    angle=180\n",
        "  \n",
        "  \n",
        "  syn_img = img.rotate(angle)\n",
        "  \n",
        "if '_flp' in label:\n",
        "  syn_img= img.transpose(Image.FLIP_LEFT_RIGHT)\n",
        "syn_img.save(\"hello3.jpg\", \"JPEG\", quality=95, optimize=True, progressive=True)"
      ],
      "execution_count": 0,
      "outputs": [
        {
          "output_type": "stream",
          "text": [
            "NA82JR_rf9\n"
          ],
          "name": "stdout"
        }
      ]
    },
    {
      "cell_type": "markdown",
      "metadata": {
        "id": "gtjO6kDmA6Vd",
        "colab_type": "text"
      },
      "source": [
        "##Data Prep for test"
      ]
    },
    {
      "cell_type": "code",
      "metadata": {
        "id": "MyOinLcSA8Kn",
        "colab_type": "code",
        "outputId": "62e02a25-263a-41ae-ac97-5206b5d577cd",
        "colab": {
          "base_uri": "https://localhost:8080/",
          "height": 34
        }
      },
      "source": [
        "from PIL import Image\n",
        "\n",
        "def make_square(im, min_size=256, fill_color=(0, 0, 0, 0)):\n",
        "    x, y = im.size\n",
        "    size = max(min_size, x, y)\n",
        "    new_im = Image.new('RGB', (size, size), fill_color)\n",
        "    new_im.paste(im, (int((size - x) / 2), int((size - y) / 2)))\n",
        "    return new_im\n",
        "  \n",
        "\n",
        "data_dir=\"/content/drive/My Drive/Lumentum/NAVA_ocr/data/cropped/\"\n",
        "image_list = []\n",
        "for filename in glob.glob(data_dir+'*.jpg'):\n",
        "    image_list.append(filename)\n",
        "print(len(image_list))\n",
        "\n",
        "\n",
        "# reading the images nad label as filenames\n",
        "for index in range(len(image_list)):\n",
        "\n",
        "  img = Image.open(image_list[index])\n",
        "\n",
        "  basewidth=256\n",
        "  wpercent = (basewidth/float(img.size[0]))\n",
        "  hsize = int((float(img.size[1])*float(wpercent)))\n",
        "  img = img.resize((basewidth,hsize), Image.ANTIALIAS)\n",
        "\n",
        "  label = os.path.splitext(image_list[index])[0][-6:]\n",
        "  sav_dir=\"/content/drive/My Drive/Lumentum/NAVA_ocr/data/test/\"\n",
        "\n",
        "  ##normal image\n",
        "  new_image=make_square(img)\n",
        "  new_image.save(sav_dir+label+\".jpg\", \"JPEG\", quality=100, optimize=True, progressive=True)\n"
      ],
      "execution_count": 0,
      "outputs": [
        {
          "output_type": "stream",
          "text": [
            "0\n"
          ],
          "name": "stdout"
        }
      ]
    },
    {
      "cell_type": "markdown",
      "metadata": {
        "id": "x2yM49a8ZRlW",
        "colab_type": "text"
      },
      "source": [
        "## Image sizer"
      ]
    },
    {
      "cell_type": "code",
      "metadata": {
        "id": "cdGttz_3ZRRq",
        "colab_type": "code",
        "colab": {}
      },
      "source": [
        "img = Image.open(\"test1.JPG\")\n",
        "img=make_square(img,min_size=3000,fill_color=(255,255,255,255))\n",
        "basewidth=300\n",
        "wpercent = (basewidth/float(img.size[0]))\n",
        "hsize = int((float(img.size[1])*float(wpercent)))\n",
        "img = img.resize((basewidth,hsize), Image.ANTIALIAS)\n",
        "img.save(\"test_sized.jpg\")"
      ],
      "execution_count": 0,
      "outputs": []
    }
  ]
}